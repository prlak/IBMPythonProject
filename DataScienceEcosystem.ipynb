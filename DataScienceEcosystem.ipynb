{
 "cells": [
  {
   "cell_type": "markdown",
   "id": "9f8627fd",
   "metadata": {},
   "source": [
    "# Title: DataScienceEcosystem"
   ]
  },
  {
   "cell_type": "markdown",
   "id": "ee5833c0",
   "metadata": {},
   "source": [
    "## Introduction : In this notebook, Data Science Tools and Ecosystem are summarized."
   ]
  },
  {
   "cell_type": "markdown",
   "id": "fd5c9b65",
   "metadata": {},
   "source": [
    "Some of the popular languages that Data Scientists use are:\n",
    "\n",
    "1. Python\n",
    "2. R\n",
    "3. SQL\n",
    "4. Julia\n",
    "5. Scala\n"
   ]
  },
  {
   "cell_type": "markdown",
   "id": "ed09c512",
   "metadata": {},
   "source": [
    "Some of the popular languages that Data Scientists use are:\n",
    "\n",
    "1. pandas\n",
    "2. numpy\n",
    "3. pytorch\n",
    "4. tensorflow\n",
    "\n"
   ]
  },
  {
   "cell_type": "markdown",
   "id": "5f72eb35",
   "metadata": {},
   "source": [
    "| Data Science Tools |\n",
    "|--------------------|\n",
    "| Jupyter Notebook   |\n",
    "| RStudio            |\n",
    "| VS Code + Python   |\n"
   ]
  },
  {
   "cell_type": "markdown",
   "id": "bdd22417",
   "metadata": {},
   "source": [
    "### Below are a few examples of evaluating arithmetic expressions in Python.\n",
    "1. **Addition:**\n",
    "   - Example: `2 + 3`\n",
    "   - Result: 5\n",
    "\n",
    "2. **Subtraction:**\n",
    "   - Example: `10 - 5`\n",
    "   - Result: 5\n",
    "\n",
    "3. **Multiplication:**\n",
    "   - Example: `4 * 6`\n",
    "   - Result: 24\n",
    "\n",
    "4. **Division:**\n",
    "   - Example: `20 / 4`\n",
    "   - Result: 5"
   ]
  },
  {
   "cell_type": "code",
   "execution_count": 3,
   "id": "72cb7e33",
   "metadata": {},
   "outputs": [
    {
     "name": "stdout",
     "output_type": "stream",
     "text": [
      "17\n"
     ]
    }
   ],
   "source": [
    "# This is a simple arithmetic expression to multiply then add integers.\n",
    "result = (3 * 4) + 5\n",
    "print(result)\n"
   ]
  },
  {
   "cell_type": "code",
   "execution_count": 2,
   "id": "e6bf0a93",
   "metadata": {},
   "outputs": [
    {
     "name": "stdout",
     "output_type": "stream",
     "text": [
      "Enter the number of minutes: 50\n",
      "50 minutes is equal to 0.8333333333333334 hours.\n"
     ]
    }
   ],
   "source": [
    "# Define a function to convert minutes to hours\n",
    "def minutes_to_hours(minutes):\n",
    "    return minutes / 60\n",
    "\n",
    "# Input the number of minutes\n",
    "minutes = int(input(\"Enter the number of minutes: \"))\n",
    "\n",
    "# Convert minutes to hours\n",
    "hours = minutes_to_hours(minutes)\n",
    "\n",
    "# Output the result\n",
    "print(f\"{minutes} minutes is equal to {hours} hours.\")\n"
   ]
  },
  {
   "cell_type": "markdown",
   "id": "cbbb464b",
   "metadata": {},
   "source": [
    "Objectives:\n",
    "\n",
    "Understand the importance of data science in various industries.\n",
    "Explore popular programming languages used in data science.\n",
    "Learn about common data science libraries and tools.\n",
    "Gain knowledge about data visualization techniques."
   ]
  },
  {
   "cell_type": "markdown",
   "id": "257dfc04",
   "metadata": {},
   "source": [
    "## Author: \n",
    "Lakshmi\n"
   ]
  },
  {
   "cell_type": "code",
   "execution_count": null,
   "id": "fcc83674",
   "metadata": {},
   "outputs": [],
   "source": []
  }
 ],
 "metadata": {
  "kernelspec": {
   "display_name": "Python 3 (ipykernel)",
   "language": "python",
   "name": "python3"
  },
  "language_info": {
   "codemirror_mode": {
    "name": "ipython",
    "version": 3
   },
   "file_extension": ".py",
   "mimetype": "text/x-python",
   "name": "python",
   "nbconvert_exporter": "python",
   "pygments_lexer": "ipython3",
   "version": "3.10.9"
  }
 },
 "nbformat": 4,
 "nbformat_minor": 5
}
